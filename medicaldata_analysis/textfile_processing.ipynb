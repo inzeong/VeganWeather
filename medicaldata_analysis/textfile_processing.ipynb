{
 "cells": [
  {
   "cell_type": "code",
   "execution_count": 61,
   "metadata": {},
   "outputs": [],
   "source": [
    "import pandas as pd\n",
    "import numpy as np\n",
    "import seaborn as sns"
   ]
  },
  {
   "cell_type": "code",
   "execution_count": 62,
   "metadata": {},
   "outputs": [
    {
     "data": {
      "text/plain": [
       "병원          60774\n",
       "약국/한약방      20923\n",
       "수의업          5323\n",
       "유사의료업        3774\n",
       "의료관련서비스업      541\n",
       "Name: 상권업종중분류명, dtype: int64"
      ]
     },
     "execution_count": 62,
     "metadata": {},
     "output_type": "execute_result"
    }
   ],
   "source": [
    "df=pd.read_csv(\"Data/소상공인시장진흥공단_상가업소정보_의료기관_201909.csv\", low_memory=False)\n",
    "df.loc[df[\"상권업종대분류명\"] == \"의료\", \"상권업종중분류명\"]\n",
    "df.loc[df[\"상권업종대분류명\"] == \"의료\", \"상권업종중분류명\"].value_counts()"
   ]
  },
  {
   "cell_type": "code",
   "execution_count": 63,
   "metadata": {},
   "outputs": [
    {
     "data": {
      "text/plain": [
       "병원          60774\n",
       "약국/한약방      20923\n",
       "수의업          5323\n",
       "유사의료업        3774\n",
       "의료관련서비스업      541\n",
       "Name: 상권업종중분류명, dtype: int64"
      ]
     },
     "execution_count": 63,
     "metadata": {},
     "output_type": "execute_result"
    }
   ],
   "source": [
    "m = df[\"상권업종대분류명\"] == \"의료\"\n",
    "df.loc[m, \"상권업종중분류명\"].value_counts()\n"
   ]
  },
  {
   "cell_type": "code",
   "execution_count": 64,
   "metadata": {},
   "outputs": [
    {
     "data": {
      "text/plain": [
       "0        False\n",
       "1         True\n",
       "2        False\n",
       "3        False\n",
       "4        False\n",
       "         ...  \n",
       "91330    False\n",
       "91331    False\n",
       "91332    False\n",
       "91333     True\n",
       "91334    False\n",
       "Name: 시도명, Length: 91335, dtype: bool"
      ]
     },
     "execution_count": 64,
     "metadata": {},
     "output_type": "execute_result"
    }
   ],
   "source": [
    "df[\"시도명\"] == \"서울특별시\""
   ]
  },
  {
   "cell_type": "code",
   "execution_count": 65,
   "metadata": {},
   "outputs": [
    {
     "data": {
      "text/html": [
       "<div>\n",
       "<style scoped>\n",
       "    .dataframe tbody tr th:only-of-type {\n",
       "        vertical-align: middle;\n",
       "    }\n",
       "\n",
       "    .dataframe tbody tr th {\n",
       "        vertical-align: top;\n",
       "    }\n",
       "\n",
       "    .dataframe thead th {\n",
       "        text-align: right;\n",
       "    }\n",
       "</style>\n",
       "<table border=\"1\" class=\"dataframe\">\n",
       "  <thead>\n",
       "    <tr style=\"text-align: right;\">\n",
       "      <th></th>\n",
       "      <th>상가업소번호</th>\n",
       "      <th>상호명</th>\n",
       "      <th>지점명</th>\n",
       "      <th>상권업종대분류코드</th>\n",
       "      <th>상권업종대분류명</th>\n",
       "      <th>상권업종중분류코드</th>\n",
       "      <th>상권업종중분류명</th>\n",
       "      <th>상권업종소분류코드</th>\n",
       "      <th>상권업종소분류명</th>\n",
       "      <th>표준산업분류코드</th>\n",
       "      <th>...</th>\n",
       "      <th>건물관리번호</th>\n",
       "      <th>건물명</th>\n",
       "      <th>도로명주소</th>\n",
       "      <th>구우편번호</th>\n",
       "      <th>신우편번호</th>\n",
       "      <th>동정보</th>\n",
       "      <th>층정보</th>\n",
       "      <th>호정보</th>\n",
       "      <th>경도</th>\n",
       "      <th>위도</th>\n",
       "    </tr>\n",
       "  </thead>\n",
       "  <tbody>\n",
       "    <tr>\n",
       "      <th>305</th>\n",
       "      <td>25155642</td>\n",
       "      <td>대진의료재단</td>\n",
       "      <td>NaN</td>\n",
       "      <td>S</td>\n",
       "      <td>의료</td>\n",
       "      <td>S01</td>\n",
       "      <td>병원</td>\n",
       "      <td>S01B01</td>\n",
       "      <td>종합병원</td>\n",
       "      <td>Q86101</td>\n",
       "      <td>...</td>\n",
       "      <td>1121510100100580025000733</td>\n",
       "      <td>재단법인대순진리회</td>\n",
       "      <td>서울특별시 광진구 긴고랑로 119</td>\n",
       "      <td>143220.0</td>\n",
       "      <td>4944.0</td>\n",
       "      <td>NaN</td>\n",
       "      <td>NaN</td>\n",
       "      <td>NaN</td>\n",
       "      <td>127.088279</td>\n",
       "      <td>37.559048</td>\n",
       "    </tr>\n",
       "    <tr>\n",
       "      <th>353</th>\n",
       "      <td>20471487</td>\n",
       "      <td>홍익병원별관</td>\n",
       "      <td>NaN</td>\n",
       "      <td>S</td>\n",
       "      <td>의료</td>\n",
       "      <td>S01</td>\n",
       "      <td>병원</td>\n",
       "      <td>S01B01</td>\n",
       "      <td>종합병원</td>\n",
       "      <td>Q86101</td>\n",
       "      <td>...</td>\n",
       "      <td>1147010100108970013001044</td>\n",
       "      <td>홍익병원별관</td>\n",
       "      <td>서울특별시 양천구 국회대로 250</td>\n",
       "      <td>158070.0</td>\n",
       "      <td>7937.0</td>\n",
       "      <td>NaN</td>\n",
       "      <td>1</td>\n",
       "      <td>NaN</td>\n",
       "      <td>126.862805</td>\n",
       "      <td>37.529213</td>\n",
       "    </tr>\n",
       "    <tr>\n",
       "      <th>385</th>\n",
       "      <td>20737057</td>\n",
       "      <td>SNUH</td>\n",
       "      <td>NaN</td>\n",
       "      <td>S</td>\n",
       "      <td>의료</td>\n",
       "      <td>S01</td>\n",
       "      <td>병원</td>\n",
       "      <td>S01B01</td>\n",
       "      <td>종합병원</td>\n",
       "      <td>Q86101</td>\n",
       "      <td>...</td>\n",
       "      <td>1168010100107360055027688</td>\n",
       "      <td>성보빌딩</td>\n",
       "      <td>서울특별시 강남구 테헤란로26길 10</td>\n",
       "      <td>135080.0</td>\n",
       "      <td>6236.0</td>\n",
       "      <td>NaN</td>\n",
       "      <td>4</td>\n",
       "      <td>NaN</td>\n",
       "      <td>127.035825</td>\n",
       "      <td>37.499630</td>\n",
       "    </tr>\n",
       "    <tr>\n",
       "      <th>1917</th>\n",
       "      <td>23210677</td>\n",
       "      <td>평화드림여의도성모병원의료기매장</td>\n",
       "      <td>NaN</td>\n",
       "      <td>S</td>\n",
       "      <td>의료</td>\n",
       "      <td>S01</td>\n",
       "      <td>병원</td>\n",
       "      <td>S01B01</td>\n",
       "      <td>종합병원</td>\n",
       "      <td>Q86101</td>\n",
       "      <td>...</td>\n",
       "      <td>1156011000100620000031477</td>\n",
       "      <td>여의도성모병원</td>\n",
       "      <td>서울특별시 영등포구 63로 10</td>\n",
       "      <td>150713.0</td>\n",
       "      <td>7345.0</td>\n",
       "      <td>NaN</td>\n",
       "      <td>1</td>\n",
       "      <td>NaN</td>\n",
       "      <td>126.936693</td>\n",
       "      <td>37.518296</td>\n",
       "    </tr>\n",
       "    <tr>\n",
       "      <th>2461</th>\n",
       "      <td>20024045</td>\n",
       "      <td>한양</td>\n",
       "      <td>NaN</td>\n",
       "      <td>S</td>\n",
       "      <td>의료</td>\n",
       "      <td>S01</td>\n",
       "      <td>병원</td>\n",
       "      <td>S01B01</td>\n",
       "      <td>종합병원</td>\n",
       "      <td>Q86101</td>\n",
       "      <td>...</td>\n",
       "      <td>1120010700100150001019623</td>\n",
       "      <td>한대동문회관</td>\n",
       "      <td>서울특별시 성동구 마조로 22-2</td>\n",
       "      <td>133070.0</td>\n",
       "      <td>4763.0</td>\n",
       "      <td>NaN</td>\n",
       "      <td>4</td>\n",
       "      <td>NaN</td>\n",
       "      <td>127.041325</td>\n",
       "      <td>37.559469</td>\n",
       "    </tr>\n",
       "    <tr>\n",
       "      <th>...</th>\n",
       "      <td>...</td>\n",
       "      <td>...</td>\n",
       "      <td>...</td>\n",
       "      <td>...</td>\n",
       "      <td>...</td>\n",
       "      <td>...</td>\n",
       "      <td>...</td>\n",
       "      <td>...</td>\n",
       "      <td>...</td>\n",
       "      <td>...</td>\n",
       "      <td>...</td>\n",
       "      <td>...</td>\n",
       "      <td>...</td>\n",
       "      <td>...</td>\n",
       "      <td>...</td>\n",
       "      <td>...</td>\n",
       "      <td>...</td>\n",
       "      <td>...</td>\n",
       "      <td>...</td>\n",
       "      <td>...</td>\n",
       "      <td>...</td>\n",
       "    </tr>\n",
       "    <tr>\n",
       "      <th>71991</th>\n",
       "      <td>28505952</td>\n",
       "      <td>서울성모병원응급의료센터</td>\n",
       "      <td>응급의료센터</td>\n",
       "      <td>S</td>\n",
       "      <td>의료</td>\n",
       "      <td>S01</td>\n",
       "      <td>병원</td>\n",
       "      <td>S01B01</td>\n",
       "      <td>종합병원</td>\n",
       "      <td>Q86101</td>\n",
       "      <td>...</td>\n",
       "      <td>1165010700101230000017226</td>\n",
       "      <td>가톨릭대학교성의교정</td>\n",
       "      <td>서울특별시 서초구 반포대로 222</td>\n",
       "      <td>137701.0</td>\n",
       "      <td>6591.0</td>\n",
       "      <td>NaN</td>\n",
       "      <td>1</td>\n",
       "      <td>NaN</td>\n",
       "      <td>127.005841</td>\n",
       "      <td>37.502382</td>\n",
       "    </tr>\n",
       "    <tr>\n",
       "      <th>76508</th>\n",
       "      <td>12292992</td>\n",
       "      <td>라마르의원</td>\n",
       "      <td>NaN</td>\n",
       "      <td>S</td>\n",
       "      <td>의료</td>\n",
       "      <td>S01</td>\n",
       "      <td>병원</td>\n",
       "      <td>S01B01</td>\n",
       "      <td>종합병원</td>\n",
       "      <td>Q86101</td>\n",
       "      <td>...</td>\n",
       "      <td>1174010900104530021010314</td>\n",
       "      <td>원방빌딩</td>\n",
       "      <td>서울특별시 강동구 천호대로157길 18</td>\n",
       "      <td>134864.0</td>\n",
       "      <td>5335.0</td>\n",
       "      <td>NaN</td>\n",
       "      <td>NaN</td>\n",
       "      <td>NaN</td>\n",
       "      <td>127.127466</td>\n",
       "      <td>37.538485</td>\n",
       "    </tr>\n",
       "    <tr>\n",
       "      <th>90492</th>\n",
       "      <td>16031909</td>\n",
       "      <td>가톨릭대학교여의도성모병원</td>\n",
       "      <td>NaN</td>\n",
       "      <td>S</td>\n",
       "      <td>의료</td>\n",
       "      <td>S01</td>\n",
       "      <td>병원</td>\n",
       "      <td>S01B01</td>\n",
       "      <td>종합병원</td>\n",
       "      <td>Q86101</td>\n",
       "      <td>...</td>\n",
       "      <td>1114012700100010001019574</td>\n",
       "      <td>명동성당</td>\n",
       "      <td>서울특별시 중구 명동길 74</td>\n",
       "      <td>100809.0</td>\n",
       "      <td>4537.0</td>\n",
       "      <td>NaN</td>\n",
       "      <td>NaN</td>\n",
       "      <td>NaN</td>\n",
       "      <td>126.986758</td>\n",
       "      <td>37.563662</td>\n",
       "    </tr>\n",
       "    <tr>\n",
       "      <th>90581</th>\n",
       "      <td>16332576</td>\n",
       "      <td>씨엠병원</td>\n",
       "      <td>NaN</td>\n",
       "      <td>S</td>\n",
       "      <td>의료</td>\n",
       "      <td>S01</td>\n",
       "      <td>병원</td>\n",
       "      <td>S01B01</td>\n",
       "      <td>종합병원</td>\n",
       "      <td>Q86101</td>\n",
       "      <td>...</td>\n",
       "      <td>1156010500100900000035097</td>\n",
       "      <td>충무병원</td>\n",
       "      <td>서울특별시 영등포구 영등포로36길 13</td>\n",
       "      <td>150030.0</td>\n",
       "      <td>7301.0</td>\n",
       "      <td>NaN</td>\n",
       "      <td>NaN</td>\n",
       "      <td>NaN</td>\n",
       "      <td>126.903857</td>\n",
       "      <td>37.518807</td>\n",
       "    </tr>\n",
       "    <tr>\n",
       "      <th>90788</th>\n",
       "      <td>16162338</td>\n",
       "      <td>성베드로병원</td>\n",
       "      <td>NaN</td>\n",
       "      <td>S</td>\n",
       "      <td>의료</td>\n",
       "      <td>S01</td>\n",
       "      <td>병원</td>\n",
       "      <td>S01B01</td>\n",
       "      <td>종합병원</td>\n",
       "      <td>Q86101</td>\n",
       "      <td>...</td>\n",
       "      <td>1168011800109100027000895</td>\n",
       "      <td>베드로병원</td>\n",
       "      <td>서울특별시 강남구 남부순환로 2649</td>\n",
       "      <td>135859.0</td>\n",
       "      <td>6271.0</td>\n",
       "      <td>NaN</td>\n",
       "      <td>NaN</td>\n",
       "      <td>NaN</td>\n",
       "      <td>127.039567</td>\n",
       "      <td>37.485604</td>\n",
       "    </tr>\n",
       "  </tbody>\n",
       "</table>\n",
       "<p>91 rows × 39 columns</p>\n",
       "</div>"
      ],
      "text/plain": [
       "         상가업소번호               상호명     지점명 상권업종대분류코드 상권업종대분류명 상권업종중분류코드  \\\n",
       "305    25155642            대진의료재단     NaN         S       의료       S01   \n",
       "353    20471487            홍익병원별관     NaN         S       의료       S01   \n",
       "385    20737057              SNUH     NaN         S       의료       S01   \n",
       "1917   23210677  평화드림여의도성모병원의료기매장     NaN         S       의료       S01   \n",
       "2461   20024045                한양     NaN         S       의료       S01   \n",
       "...         ...               ...     ...       ...      ...       ...   \n",
       "71991  28505952      서울성모병원응급의료센터  응급의료센터         S       의료       S01   \n",
       "76508  12292992             라마르의원     NaN         S       의료       S01   \n",
       "90492  16031909     가톨릭대학교여의도성모병원     NaN         S       의료       S01   \n",
       "90581  16332576              씨엠병원     NaN         S       의료       S01   \n",
       "90788  16162338            성베드로병원     NaN         S       의료       S01   \n",
       "\n",
       "      상권업종중분류명 상권업종소분류코드 상권업종소분류명 표준산업분류코드  ...                     건물관리번호  \\\n",
       "305         병원    S01B01     종합병원   Q86101  ...  1121510100100580025000733   \n",
       "353         병원    S01B01     종합병원   Q86101  ...  1147010100108970013001044   \n",
       "385         병원    S01B01     종합병원   Q86101  ...  1168010100107360055027688   \n",
       "1917        병원    S01B01     종합병원   Q86101  ...  1156011000100620000031477   \n",
       "2461        병원    S01B01     종합병원   Q86101  ...  1120010700100150001019623   \n",
       "...        ...       ...      ...      ...  ...                        ...   \n",
       "71991       병원    S01B01     종합병원   Q86101  ...  1165010700101230000017226   \n",
       "76508       병원    S01B01     종합병원   Q86101  ...  1174010900104530021010314   \n",
       "90492       병원    S01B01     종합병원   Q86101  ...  1114012700100010001019574   \n",
       "90581       병원    S01B01     종합병원   Q86101  ...  1156010500100900000035097   \n",
       "90788       병원    S01B01     종합병원   Q86101  ...  1168011800109100027000895   \n",
       "\n",
       "              건물명                  도로명주소     구우편번호   신우편번호  동정보  층정보  호정보  \\\n",
       "305     재단법인대순진리회     서울특별시 광진구 긴고랑로 119  143220.0  4944.0  NaN  NaN  NaN   \n",
       "353        홍익병원별관     서울특별시 양천구 국회대로 250  158070.0  7937.0  NaN    1  NaN   \n",
       "385          성보빌딩   서울특별시 강남구 테헤란로26길 10  135080.0  6236.0  NaN    4  NaN   \n",
       "1917      여의도성모병원      서울특별시 영등포구 63로 10  150713.0  7345.0  NaN    1  NaN   \n",
       "2461       한대동문회관     서울특별시 성동구 마조로 22-2  133070.0  4763.0  NaN    4  NaN   \n",
       "...           ...                    ...       ...     ...  ...  ...  ...   \n",
       "71991  가톨릭대학교성의교정     서울특별시 서초구 반포대로 222  137701.0  6591.0  NaN    1  NaN   \n",
       "76508        원방빌딩  서울특별시 강동구 천호대로157길 18  134864.0  5335.0  NaN  NaN  NaN   \n",
       "90492        명동성당        서울특별시 중구 명동길 74  100809.0  4537.0  NaN  NaN  NaN   \n",
       "90581        충무병원  서울특별시 영등포구 영등포로36길 13  150030.0  7301.0  NaN  NaN  NaN   \n",
       "90788       베드로병원   서울특별시 강남구 남부순환로 2649  135859.0  6271.0  NaN  NaN  NaN   \n",
       "\n",
       "               경도         위도  \n",
       "305    127.088279  37.559048  \n",
       "353    126.862805  37.529213  \n",
       "385    127.035825  37.499630  \n",
       "1917   126.936693  37.518296  \n",
       "2461   127.041325  37.559469  \n",
       "...           ...        ...  \n",
       "71991  127.005841  37.502382  \n",
       "76508  127.127466  37.538485  \n",
       "90492  126.986758  37.563662  \n",
       "90581  126.903857  37.518807  \n",
       "90788  127.039567  37.485604  \n",
       "\n",
       "[91 rows x 39 columns]"
      ]
     },
     "execution_count": 65,
     "metadata": {},
     "output_type": "execute_result"
    }
   ],
   "source": [
    "df_seoul_hospital = df[(df[\"상권업종소분류명\"] == \"종합병원\") & (df[\"시도명\"] == \"서울특별시\")].copy()\n",
    "df_seoul_hospital"
   ]
  },
  {
   "cell_type": "code",
   "execution_count": 66,
   "metadata": {
    "scrolled": true
   },
   "outputs": [
    {
     "data": {
      "text/plain": [
       "305       광진구\n",
       "353       양천구\n",
       "385       강남구\n",
       "1917     영등포구\n",
       "2461      성동구\n",
       "         ... \n",
       "71991     서초구\n",
       "76508     강동구\n",
       "90492      중구\n",
       "90581    영등포구\n",
       "90788     강남구\n",
       "Name: 시군구명, Length: 91, dtype: object"
      ]
     },
     "execution_count": 66,
     "metadata": {},
     "output_type": "execute_result"
    }
   ],
   "source": [
    "df_seoul_hospital[\"시군구명\"]"
   ]
  },
  {
   "cell_type": "code",
   "execution_count": 67,
   "metadata": {},
   "outputs": [
    {
     "data": {
      "text/plain": [
       "강남구     15\n",
       "영등포구     8\n",
       "광진구      6\n",
       "서초구      6\n",
       "중구       5\n",
       "송파구      5\n",
       "강동구      5\n",
       "도봉구      4\n",
       "강북구      4\n",
       "서대문구     4\n",
       "양천구      4\n",
       "성북구      3\n",
       "동대문구     2\n",
       "금천구      2\n",
       "강서구      2\n",
       "성동구      2\n",
       "관악구      2\n",
       "종로구      2\n",
       "노원구      2\n",
       "중랑구      2\n",
       "구로구      2\n",
       "용산구      1\n",
       "마포구      1\n",
       "은평구      1\n",
       "동작구      1\n",
       "Name: 시군구명, dtype: int64"
      ]
     },
     "execution_count": 67,
     "metadata": {},
     "output_type": "execute_result"
    }
   ],
   "source": [
    "df_seoul_hospital[\"시군구명\"].value_counts()"
   ]
  },
  {
   "cell_type": "code",
   "execution_count": 68,
   "metadata": {},
   "outputs": [
    {
     "data": {
      "text/plain": [
       "305      False\n",
       "353      False\n",
       "385      False\n",
       "1917     False\n",
       "2461     False\n",
       "         ...  \n",
       "71991    False\n",
       "76508    False\n",
       "90492    False\n",
       "90581    False\n",
       "90788    False\n",
       "Name: 상호명, Length: 91, dtype: bool"
      ]
     },
     "execution_count": 68,
     "metadata": {},
     "output_type": "execute_result"
    }
   ],
   "source": [
    "#텍스트 데이터 색인하기\n",
    "df_seoul_hospital[\"상호명\"].str.contains(\"종합병원\")"
   ]
  },
  {
   "cell_type": "code",
   "execution_count": 69,
   "metadata": {},
   "outputs": [
    {
     "data": {
      "text/plain": [
       "array(['대진의료재단', '홍익병원별관', 'SNUH', '평화드림여의도성모병원의료기매장', '한양', '백산의료재단친구병원',\n",
       "       '서울보훈병원', '서울성모병원장례식장꽃배달', '서울대학교병원', '알콜중독및정신질환상담소',\n",
       "       '강남성모병원장례식장꽃배달', '제일병원', '이랜드클리닉', '사랑나눔의료재단', '우울증센터', '성심의료재단',\n",
       "       '다나의료재단', '서울아산병원신관', '원자력병원장례식장', '국민의원', '고려대학교구로병원', '학교법인일송학원',\n",
       "       '삼성의료원장례식장', '희명스포츠의학센터인공신장실', '연세대학교의과대학강남세브란스', '국립정신병원',\n",
       "       '코아클리닉', '수서제일의원', '사랑의의원', '한국전력공사부속한일병원', '신촌연세병원', '창동제일의원',\n",
       "       '영동세브란스병원', '제일성심의원', '삼성의료재단강북삼성태', '서울시립보라매병원', '서울이의원',\n",
       "       '서울대학교병원비상계획외래', '평화드림서울성모병원의료', '홍익병원', '사랑나눔의료재단서', '독일의원',\n",
       "       '서울연합의원', '우신향병원', '동부제일병원', '아산재단금강병원', '명곡안연구소', '아산재단서울중앙병원',\n",
       "       '메디힐특수여객', '삼성생명공익재단삼성서', '성광의료재단차병원', '한국건강관리협회서울특',\n",
       "       '정해복지부설한신메디피아', '성베드로병원', '성애의료재단', '실로암의원', 'Y&T성모마취과', '광진성모의원',\n",
       "       '서울현대의원', '이노신경과의원', '송정훼밀리의원', '서울중앙의원', '영남의료재단', '인제대학교서울백병원',\n",
       "       '한국필의료재단', '세브란스의원', '가톨릭대학교성바오로병원장례식장', '서울연세의원', '사랑의병원',\n",
       "       '성삼의료재단미즈메디병원', '씨엠충무병원', '성신의원', '원진재단부설녹색병원', '송파제일의원',\n",
       "       '카톨릭성모의원', '한양성심의원', '관악성모의원', '강남센트럴병원', '우이한솔의원', '우리들병원',\n",
       "       '서울성모병원어린이집', '건국대학교병원', '서울적십자병원', '북부성모의원', '한림대학교부속한강성심병원장례식장',\n",
       "       '서울성모병원응급의료센터', '라마르의원', '가톨릭대학교여의도성모병원', '씨엠병원'], dtype=object)"
      ]
     },
     "execution_count": 69,
     "metadata": {},
     "output_type": "execute_result"
    }
   ],
   "source": [
    "df_seoul_hospital.loc[~df_seoul_hospital[\"상호명\"].str.contains(\"종합병원\"), \"상호명\"].unique() #중복없이 가져옴"
   ]
  },
  {
   "cell_type": "code",
   "execution_count": 70,
   "metadata": {},
   "outputs": [
    {
     "data": {
      "text/plain": [
       "305      False\n",
       "353      False\n",
       "385      False\n",
       "1917     False\n",
       "2461     False\n",
       "         ...  \n",
       "71991    False\n",
       "76508    False\n",
       "90492    False\n",
       "90581    False\n",
       "90788    False\n",
       "Name: 상호명, Length: 91, dtype: bool"
      ]
     },
     "execution_count": 70,
     "metadata": {},
     "output_type": "execute_result"
    }
   ],
   "source": [
    "df_seoul_hospital[\"상호명\"].str.contains(\"꽃배달\")"
   ]
  },
  {
   "cell_type": "code",
   "execution_count": 71,
   "metadata": {},
   "outputs": [
    {
     "data": {
      "text/html": [
       "<div>\n",
       "<style scoped>\n",
       "    .dataframe tbody tr th:only-of-type {\n",
       "        vertical-align: middle;\n",
       "    }\n",
       "\n",
       "    .dataframe tbody tr th {\n",
       "        vertical-align: top;\n",
       "    }\n",
       "\n",
       "    .dataframe thead th {\n",
       "        text-align: right;\n",
       "    }\n",
       "</style>\n",
       "<table border=\"1\" class=\"dataframe\">\n",
       "  <thead>\n",
       "    <tr style=\"text-align: right;\">\n",
       "      <th></th>\n",
       "      <th>상가업소번호</th>\n",
       "      <th>상호명</th>\n",
       "      <th>지점명</th>\n",
       "      <th>상권업종대분류코드</th>\n",
       "      <th>상권업종대분류명</th>\n",
       "      <th>상권업종중분류코드</th>\n",
       "      <th>상권업종중분류명</th>\n",
       "      <th>상권업종소분류코드</th>\n",
       "      <th>상권업종소분류명</th>\n",
       "      <th>표준산업분류코드</th>\n",
       "      <th>...</th>\n",
       "      <th>건물관리번호</th>\n",
       "      <th>건물명</th>\n",
       "      <th>도로명주소</th>\n",
       "      <th>구우편번호</th>\n",
       "      <th>신우편번호</th>\n",
       "      <th>동정보</th>\n",
       "      <th>층정보</th>\n",
       "      <th>호정보</th>\n",
       "      <th>경도</th>\n",
       "      <th>위도</th>\n",
       "    </tr>\n",
       "  </thead>\n",
       "  <tbody>\n",
       "    <tr>\n",
       "      <th>2803</th>\n",
       "      <td>20895655</td>\n",
       "      <td>서울성모병원장례식장꽃배달</td>\n",
       "      <td>NaN</td>\n",
       "      <td>S</td>\n",
       "      <td>의료</td>\n",
       "      <td>S01</td>\n",
       "      <td>병원</td>\n",
       "      <td>S01B01</td>\n",
       "      <td>종합병원</td>\n",
       "      <td>Q86101</td>\n",
       "      <td>...</td>\n",
       "      <td>1165010700105510000017194</td>\n",
       "      <td>NaN</td>\n",
       "      <td>서울특별시 서초구 사평대로28길 55</td>\n",
       "      <td>137040.0</td>\n",
       "      <td>6578.0</td>\n",
       "      <td>1</td>\n",
       "      <td>1</td>\n",
       "      <td>NaN</td>\n",
       "      <td>127.000682</td>\n",
       "      <td>37.498257</td>\n",
       "    </tr>\n",
       "    <tr>\n",
       "      <th>4644</th>\n",
       "      <td>22020310</td>\n",
       "      <td>강남성모병원장례식장꽃배달</td>\n",
       "      <td>NaN</td>\n",
       "      <td>S</td>\n",
       "      <td>의료</td>\n",
       "      <td>S01</td>\n",
       "      <td>병원</td>\n",
       "      <td>S01B01</td>\n",
       "      <td>종합병원</td>\n",
       "      <td>Q86101</td>\n",
       "      <td>...</td>\n",
       "      <td>1165010700105470006016762</td>\n",
       "      <td>이이빌딩</td>\n",
       "      <td>서울특별시 서초구 반포대로39길 56-24</td>\n",
       "      <td>137040.0</td>\n",
       "      <td>6578.0</td>\n",
       "      <td>NaN</td>\n",
       "      <td>1</td>\n",
       "      <td>NaN</td>\n",
       "      <td>127.001756</td>\n",
       "      <td>37.499095</td>\n",
       "    </tr>\n",
       "  </tbody>\n",
       "</table>\n",
       "<p>2 rows × 39 columns</p>\n",
       "</div>"
      ],
      "text/plain": [
       "        상가업소번호            상호명  지점명 상권업종대분류코드 상권업종대분류명 상권업종중분류코드 상권업종중분류명  \\\n",
       "2803  20895655  서울성모병원장례식장꽃배달  NaN         S       의료       S01       병원   \n",
       "4644  22020310  강남성모병원장례식장꽃배달  NaN         S       의료       S01       병원   \n",
       "\n",
       "     상권업종소분류코드 상권업종소분류명 표준산업분류코드  ...                     건물관리번호   건물명  \\\n",
       "2803    S01B01     종합병원   Q86101  ...  1165010700105510000017194   NaN   \n",
       "4644    S01B01     종합병원   Q86101  ...  1165010700105470006016762  이이빌딩   \n",
       "\n",
       "                        도로명주소     구우편번호   신우편번호  동정보 층정보  호정보          경도  \\\n",
       "2803     서울특별시 서초구 사평대로28길 55  137040.0  6578.0    1   1  NaN  127.000682   \n",
       "4644  서울특별시 서초구 반포대로39길 56-24  137040.0  6578.0  NaN   1  NaN  127.001756   \n",
       "\n",
       "             위도  \n",
       "2803  37.498257  \n",
       "4644  37.499095  \n",
       "\n",
       "[2 rows x 39 columns]"
      ]
     },
     "execution_count": 71,
     "metadata": {},
     "output_type": "execute_result"
    }
   ],
   "source": [
    "df_seoul_hospital[df_seoul_hospital[\"상호명\"].str.contains(\"꽃배달\")]\n"
   ]
  },
  {
   "cell_type": "code",
   "execution_count": 72,
   "metadata": {},
   "outputs": [
    {
     "data": {
      "text/plain": [
       "[1917, 2803, 4431, 4644, 7938, 10283, 47008, 60645, 70177]"
      ]
     },
     "execution_count": 72,
     "metadata": {},
     "output_type": "execute_result"
    }
   ],
   "source": [
    "drop_row = df_seoul_hospital[\n",
    "df_seoul_hospital[\"상호명\"].str.contains(\"꽃배달|의료기|장례식장|상담소|어린이집\")].index\n",
    "\n",
    "drop_row = drop_row.tolist()\n",
    "drop_row"
   ]
  },
  {
   "cell_type": "code",
   "execution_count": 73,
   "metadata": {},
   "outputs": [
    {
     "data": {
      "text/plain": [
       "[8479,\n",
       " 12854,\n",
       " 13715,\n",
       " 14966,\n",
       " 16091,\n",
       " 18047,\n",
       " 20200,\n",
       " 20415,\n",
       " 30706,\n",
       " 32889,\n",
       " 34459,\n",
       " 34720,\n",
       " 35696,\n",
       " 37251,\n",
       " 45120,\n",
       " 49626,\n",
       " 51575,\n",
       " 55133,\n",
       " 56320,\n",
       " 56404,\n",
       " 56688,\n",
       " 57551,\n",
       " 62113,\n",
       " 76508]"
      ]
     },
     "execution_count": 73,
     "metadata": {},
     "output_type": "execute_result"
    }
   ],
   "source": [
    "drop_row2 = df_seoul_hospital[df_seoul_hospital[\"상호명\"].str.endswith(\"의원\")].index\n",
    "drop_row2.tolist()"
   ]
  },
  {
   "cell_type": "code",
   "execution_count": 74,
   "metadata": {},
   "outputs": [
    {
     "data": {
      "text/plain": [
       "33"
      ]
     },
     "execution_count": 74,
     "metadata": {},
     "output_type": "execute_result"
    }
   ],
   "source": [
    "drop_row = drop_row + drop_row2.tolist()\n",
    "len(drop_row)"
   ]
  },
  {
   "cell_type": "code",
   "execution_count": 75,
   "metadata": {},
   "outputs": [
    {
     "name": "stdout",
     "output_type": "stream",
     "text": [
      "(91, 39)\n"
     ]
    }
   ],
   "source": [
    "print(df_seoul_hospital.shape)"
   ]
  },
  {
   "cell_type": "code",
   "execution_count": 77,
   "metadata": {},
   "outputs": [
    {
     "name": "stdout",
     "output_type": "stream",
     "text": [
      "(58, 39)\n"
     ]
    }
   ],
   "source": [
    "df_seoul_hospital = df_seoul_hospital.drop(drop_row, axis=0)\n",
    "print(df_seoul_hospital.shape)"
   ]
  },
  {
   "cell_type": "code",
   "execution_count": null,
   "metadata": {},
   "outputs": [],
   "source": []
  }
 ],
 "metadata": {
  "kernelspec": {
   "display_name": "Python 3",
   "language": "python",
   "name": "python3"
  },
  "language_info": {
   "codemirror_mode": {
    "name": "ipython",
    "version": 3
   },
   "file_extension": ".py",
   "mimetype": "text/x-python",
   "name": "python",
   "nbconvert_exporter": "python",
   "pygments_lexer": "ipython3",
   "version": "3.8.5"
  }
 },
 "nbformat": 4,
 "nbformat_minor": 4
}
