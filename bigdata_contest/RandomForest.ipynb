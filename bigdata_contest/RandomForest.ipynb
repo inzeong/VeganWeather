{
  "nbformat": 4,
  "nbformat_minor": 0,
  "metadata": {
    "kernelspec": {
      "display_name": "Python 3",
      "language": "python",
      "name": "python3"
    },
    "language_info": {
      "codemirror_mode": {
        "name": "ipython",
        "version": 3
      },
      "file_extension": ".py",
      "mimetype": "text/x-python",
      "name": "python",
      "nbconvert_exporter": "python",
      "pygments_lexer": "ipython3",
      "version": "3.8.5"
    },
    "colab": {
      "name": "RandomForest 코드.ipynb",
      "provenance": [],
      "include_colab_link": true
    }
  },
  "cells": [
    {
      "cell_type": "markdown",
      "metadata": {
        "id": "view-in-github",
        "colab_type": "text"
      },
      "source": [
        "<a href=\"https://colab.research.google.com/github/zungin/DataAnalysis/blob/master/RandomForest.ipynb\" target=\"_parent\"><img src=\"https://colab.research.google.com/assets/colab-badge.svg\" alt=\"Open In Colab\"/></a>"
      ]
    },
    {
      "cell_type": "markdown",
      "metadata": {
        "id": "YmJ_dGkWee1S"
      },
      "source": [
        "RandomForest Regression - 계절 별"
      ]
    },
    {
      "cell_type": "code",
      "metadata": {
        "id": "AUDv_cT7ee1U"
      },
      "source": [
        "import numpy as np\n",
        "import pandas as pd\n",
        "import matplotlib.pyplot as plt\n",
        "import seaborn as sns\n",
        "%matplotlib inline\n",
        "from datetime import datetime\n",
        "from sklearn.preprocessing import LabelEncoder\n",
        "import warnings\n",
        "warnings.filterwarnings('ignore')\n",
        "\n",
        "from sklearn.model_selection import train_test_split, GridSearchCV\n",
        "from sklearn.ensemble import RandomForestRegressor\n",
        "from sklearn.metrics import mean_squared_error"
      ],
      "execution_count": null,
      "outputs": []
    },
    {
      "cell_type": "code",
      "metadata": {
        "id": "YDZERdciee1V",
        "outputId": "3afd2262-cbea-42f9-e357-5c34df73b393"
      },
      "source": [
        "data = pd.read_csv('./data/total_data.csv')\n",
        "data = data[data['대분류명']=='뷰티']\n",
        "data.head()"
      ],
      "execution_count": null,
      "outputs": [
        {
          "output_type": "execute_result",
          "data": {
            "text/html": [
              "<div>\n",
              "<style scoped>\n",
              "    .dataframe tbody tr th:only-of-type {\n",
              "        vertical-align: middle;\n",
              "    }\n",
              "\n",
              "    .dataframe tbody tr th {\n",
              "        vertical-align: top;\n",
              "    }\n",
              "\n",
              "    .dataframe thead th {\n",
              "        text-align: right;\n",
              "    }\n",
              "</style>\n",
              "<table border=\"1\" class=\"dataframe\">\n",
              "  <thead>\n",
              "    <tr style=\"text-align: right;\">\n",
              "      <th></th>\n",
              "      <th>계절</th>\n",
              "      <th>월</th>\n",
              "      <th>일</th>\n",
              "      <th>요일</th>\n",
              "      <th>공휴일</th>\n",
              "      <th>성별</th>\n",
              "      <th>연령대</th>\n",
              "      <th>대분류명</th>\n",
              "      <th>소분류명</th>\n",
              "      <th>평균일강수량(mm)</th>\n",
              "      <th>평균풍속(km/h)</th>\n",
              "      <th>평균습도(%rh)</th>\n",
              "      <th>일조합</th>\n",
              "      <th>체감온도(℃)</th>\n",
              "      <th>일 미세먼지 농도(㎍/㎥)</th>\n",
              "      <th>10만건당 건수</th>\n",
              "      <th>구매건수</th>\n",
              "    </tr>\n",
              "  </thead>\n",
              "  <tbody>\n",
              "    <tr>\n",
              "      <th>389</th>\n",
              "      <td>겨울</td>\n",
              "      <td>1</td>\n",
              "      <td>1</td>\n",
              "      <td>0</td>\n",
              "      <td>1.0</td>\n",
              "      <td>F</td>\n",
              "      <td>20</td>\n",
              "      <td>뷰티</td>\n",
              "      <td>기능성 링클케어 화장품</td>\n",
              "      <td>0.0</td>\n",
              "      <td>6.84</td>\n",
              "      <td>51.0</td>\n",
              "      <td>8.7</td>\n",
              "      <td>-2.810026</td>\n",
              "      <td>32.962963</td>\n",
              "      <td>12.154295</td>\n",
              "      <td>2</td>\n",
              "    </tr>\n",
              "    <tr>\n",
              "      <th>390</th>\n",
              "      <td>겨울</td>\n",
              "      <td>1</td>\n",
              "      <td>1</td>\n",
              "      <td>0</td>\n",
              "      <td>1.0</td>\n",
              "      <td>F</td>\n",
              "      <td>40</td>\n",
              "      <td>뷰티</td>\n",
              "      <td>기능성 링클케어 화장품</td>\n",
              "      <td>0.0</td>\n",
              "      <td>6.84</td>\n",
              "      <td>51.0</td>\n",
              "      <td>8.7</td>\n",
              "      <td>-2.810026</td>\n",
              "      <td>32.962963</td>\n",
              "      <td>12.154295</td>\n",
              "      <td>1</td>\n",
              "    </tr>\n",
              "    <tr>\n",
              "      <th>391</th>\n",
              "      <td>겨울</td>\n",
              "      <td>1</td>\n",
              "      <td>1</td>\n",
              "      <td>0</td>\n",
              "      <td>1.0</td>\n",
              "      <td>F</td>\n",
              "      <td>20</td>\n",
              "      <td>뷰티</td>\n",
              "      <td>기능성 모공관리 화장품</td>\n",
              "      <td>0.0</td>\n",
              "      <td>6.84</td>\n",
              "      <td>51.0</td>\n",
              "      <td>8.7</td>\n",
              "      <td>-2.810026</td>\n",
              "      <td>32.962963</td>\n",
              "      <td>36.000828</td>\n",
              "      <td>7</td>\n",
              "    </tr>\n",
              "    <tr>\n",
              "      <th>392</th>\n",
              "      <td>겨울</td>\n",
              "      <td>1</td>\n",
              "      <td>1</td>\n",
              "      <td>0</td>\n",
              "      <td>1.0</td>\n",
              "      <td>F</td>\n",
              "      <td>30</td>\n",
              "      <td>뷰티</td>\n",
              "      <td>기능성 모공관리 화장품</td>\n",
              "      <td>0.0</td>\n",
              "      <td>6.84</td>\n",
              "      <td>51.0</td>\n",
              "      <td>8.7</td>\n",
              "      <td>-2.810026</td>\n",
              "      <td>32.962963</td>\n",
              "      <td>36.000828</td>\n",
              "      <td>3</td>\n",
              "    </tr>\n",
              "    <tr>\n",
              "      <th>393</th>\n",
              "      <td>겨울</td>\n",
              "      <td>1</td>\n",
              "      <td>1</td>\n",
              "      <td>0</td>\n",
              "      <td>1.0</td>\n",
              "      <td>F</td>\n",
              "      <td>40</td>\n",
              "      <td>뷰티</td>\n",
              "      <td>기능성 모공관리 화장품</td>\n",
              "      <td>0.0</td>\n",
              "      <td>6.84</td>\n",
              "      <td>51.0</td>\n",
              "      <td>8.7</td>\n",
              "      <td>-2.810026</td>\n",
              "      <td>32.962963</td>\n",
              "      <td>36.000828</td>\n",
              "      <td>1</td>\n",
              "    </tr>\n",
              "  </tbody>\n",
              "</table>\n",
              "</div>"
            ],
            "text/plain": [
              "     계절  월  일  요일  공휴일 성별  연령대 대분류명          소분류명  평균일강수량(mm)  평균풍속(km/h)  \\\n",
              "389  겨울  1  1   0  1.0  F   20   뷰티  기능성 링클케어 화장품         0.0        6.84   \n",
              "390  겨울  1  1   0  1.0  F   40   뷰티  기능성 링클케어 화장품         0.0        6.84   \n",
              "391  겨울  1  1   0  1.0  F   20   뷰티  기능성 모공관리 화장품         0.0        6.84   \n",
              "392  겨울  1  1   0  1.0  F   30   뷰티  기능성 모공관리 화장품         0.0        6.84   \n",
              "393  겨울  1  1   0  1.0  F   40   뷰티  기능성 모공관리 화장품         0.0        6.84   \n",
              "\n",
              "     평균습도(%rh)  일조합   체감온도(℃)  일 미세먼지 농도(㎍/㎥)   10만건당 건수  구매건수  \n",
              "389       51.0  8.7 -2.810026       32.962963  12.154295     2  \n",
              "390       51.0  8.7 -2.810026       32.962963  12.154295     1  \n",
              "391       51.0  8.7 -2.810026       32.962963  36.000828     7  \n",
              "392       51.0  8.7 -2.810026       32.962963  36.000828     3  \n",
              "393       51.0  8.7 -2.810026       32.962963  36.000828     1  "
            ]
          },
          "metadata": {
            "tags": []
          },
          "execution_count": 2
        }
      ]
    },
    {
      "cell_type": "markdown",
      "metadata": {
        "id": "L8XJgQ4fee1W"
      },
      "source": [
        "타깃 변수 로그 변환"
      ]
    },
    {
      "cell_type": "code",
      "metadata": {
        "id": "OfUMJjxxee1X"
      },
      "source": [
        "data['구매건수'] = np.log1p(data['구매건수'])"
      ],
      "execution_count": null,
      "outputs": []
    },
    {
      "cell_type": "code",
      "metadata": {
        "id": "Bon1Bw6pee1X",
        "outputId": "a6606866-00ad-415f-9eda-8efb17802378"
      },
      "source": [
        "data.shape"
      ],
      "execution_count": null,
      "outputs": [
        {
          "output_type": "execute_result",
          "data": {
            "text/plain": [
              "(697853, 17)"
            ]
          },
          "metadata": {
            "tags": []
          },
          "execution_count": 4
        }
      ]
    },
    {
      "cell_type": "code",
      "metadata": {
        "id": "Bbyw9N7_ee1X",
        "outputId": "bb20f3f3-16b1-474c-9880-ad0f0ded900f"
      },
      "source": [
        "data = data.drop(['대분류명','평균습도(%rh)','일조합'], axis=1)\n",
        "\n",
        "data.info()"
      ],
      "execution_count": null,
      "outputs": [
        {
          "output_type": "stream",
          "text": [
            "<class 'pandas.core.frame.DataFrame'>\n",
            "Int64Index: 697853 entries, 389 to 2056849\n",
            "Data columns (total 14 columns):\n",
            " #   Column          Non-Null Count   Dtype  \n",
            "---  ------          --------------   -----  \n",
            " 0   계절              697853 non-null  object \n",
            " 1   월               697853 non-null  int64  \n",
            " 2   일               697853 non-null  int64  \n",
            " 3   요일              697853 non-null  int64  \n",
            " 4   공휴일             697853 non-null  float64\n",
            " 5   성별              697853 non-null  object \n",
            " 6   연령대             697853 non-null  int64  \n",
            " 7   소분류명            697853 non-null  object \n",
            " 8   평균일강수량(mm)      697853 non-null  float64\n",
            " 9   평균풍속(km/h)      697853 non-null  float64\n",
            " 10  체감온도(℃)         697853 non-null  float64\n",
            " 11  일 미세먼지 농도(㎍/㎥)  695969 non-null  float64\n",
            " 12  10만건당 건수        697853 non-null  float64\n",
            " 13  구매건수            697853 non-null  float64\n",
            "dtypes: float64(7), int64(4), object(3)\n",
            "memory usage: 79.9+ MB\n"
          ],
          "name": "stdout"
        }
      ]
    },
    {
      "cell_type": "code",
      "metadata": {
        "id": "cecHxpwNee1Y",
        "outputId": "625494f2-3a63-4d0e-b1f8-ef4380ff31ca"
      },
      "source": [
        "data.isnull().sum()"
      ],
      "execution_count": null,
      "outputs": [
        {
          "output_type": "execute_result",
          "data": {
            "text/plain": [
              "계절                   0\n",
              "월                    0\n",
              "일                    0\n",
              "요일                   0\n",
              "공휴일                  0\n",
              "성별                   0\n",
              "연령대                  0\n",
              "소분류명                 0\n",
              "평균일강수량(mm)           0\n",
              "평균풍속(km/h)           0\n",
              "체감온도(℃)              0\n",
              "일 미세먼지 농도(㎍/㎥)    1884\n",
              "10만건당 건수             0\n",
              "구매건수                 0\n",
              "dtype: int64"
            ]
          },
          "metadata": {
            "tags": []
          },
          "execution_count": 6
        }
      ]
    },
    {
      "cell_type": "markdown",
      "metadata": {
        "id": "sy7Ke0t9ee1Y"
      },
      "source": [
        "라벨인코딩"
      ]
    },
    {
      "cell_type": "code",
      "metadata": {
        "id": "hLewgk3Lee1Z"
      },
      "source": [
        "data = data.dropna().reset_index(drop=True)\n",
        "data['성별'] = data['성별'].replace(['F','M'],[0,1])\n",
        "data['계절'] = data['계절'].replace(['봄','여름','가을','겨울'],[0,1,2,3])\n",
        "encoder = LabelEncoder()\n",
        "data['소분류명'] = encoder.fit_transform(data['소분류명'])"
      ],
      "execution_count": null,
      "outputs": []
    },
    {
      "cell_type": "code",
      "metadata": {
        "id": "wRdNtAeDee1Z",
        "outputId": "f0d03d9f-8884-43f1-d791-c74b6fa6090f"
      },
      "source": [
        "봄 = data[data['계절']==0].reset_index(drop=True)\n",
        "여름 = data[data['계절']==1].reset_index(drop=True)\n",
        "가을 = data[data['계절']==2].reset_index(drop=True)\n",
        "겨울 = data[data['계절']==3].reset_index(drop=True)\n",
        "print(봄.shape, 여름.shape, 가을.shape, 겨울.shape)"
      ],
      "execution_count": null,
      "outputs": [
        {
          "output_type": "stream",
          "text": [
            "(178079, 14) (177458, 14) (169428, 14) (171004, 14)\n"
          ],
          "name": "stdout"
        }
      ]
    },
    {
      "cell_type": "markdown",
      "metadata": {
        "id": "FXcsybFxee1a"
      },
      "source": [
        "이상치 대체 함수"
      ]
    },
    {
      "cell_type": "code",
      "metadata": {
        "id": "R1awNq3vee1a"
      },
      "source": [
        "def remove_outlier(data,column):\n",
        "    df = data[column]\n",
        "    # 1분위수\n",
        "    quan_25 = np.percentile(df.values, 25)    \n",
        "    # 3분위수\n",
        "    quan_75 = np.percentile(df.values, 75)    \n",
        "    iqr = quan_75 - quan_25   \n",
        "    lowest = quan_25 - iqr * 1.5\n",
        "    highest = quan_75 + iqr * 1.5\n",
        "    outlier_index = df[(df < lowest) | (df > highest)].index\n",
        "    print('outlier의 수 : ' , len(outlier_index))\n",
        "    # 평균으로 대체\n",
        "    df[outlier_index]=df.mean()    \n",
        "    return data"
      ],
      "execution_count": null,
      "outputs": []
    },
    {
      "cell_type": "code",
      "metadata": {
        "id": "0VjEwflYee1a",
        "outputId": "6600c2be-e6ff-4805-dc7c-5dbc2010adff"
      },
      "source": [
        "print(봄.shape, 여름.shape, 가을.shape, 겨울.shape)\n",
        "candidate = ['평균일강수량(mm)', '평균풍속(km/h)', '일 미세먼지 농도(㎍/㎥)']\n",
        "for cand in candidate:  \n",
        "    봄 = remove_outlier(봄,cand)\n",
        "    여름 = remove_outlier(여름,cand)\n",
        "    가을 = remove_outlier(가을,cand)\n",
        "    겨울 = remove_outlier(겨울,cand)\n",
        "print(봄.shape, 여름.shape, 가을.shape, 겨울.shape)"
      ],
      "execution_count": null,
      "outputs": [
        {
          "output_type": "stream",
          "text": [
            "(178079, 14) (177458, 14) (169428, 14) (171004, 14)\n",
            "outlier의 수 :  34801\n",
            "outlier의 수 :  25012\n",
            "outlier의 수 :  28961\n",
            "outlier의 수 :  35392\n",
            "outlier의 수 :  5767\n",
            "outlier의 수 :  4690\n",
            "outlier의 수 :  10356\n",
            "outlier의 수 :  947\n",
            "outlier의 수 :  7724\n",
            "outlier의 수 :  0\n",
            "outlier의 수 :  10530\n",
            "outlier의 수 :  4708\n",
            "(178079, 14) (177458, 14) (169428, 14) (171004, 14)\n"
          ],
          "name": "stdout"
        }
      ]
    },
    {
      "cell_type": "markdown",
      "metadata": {
        "id": "iL34Lvpxee1b"
      },
      "source": [
        "rmsle 계산 함수"
      ]
    },
    {
      "cell_type": "code",
      "metadata": {
        "id": "SObeay3Ree1b"
      },
      "source": [
        "def rmsle(y_pred, y_test) :\n",
        "    assert len(y_test) == len(y_pred)\n",
        "    return np.sqrt(np.mean((np.log1p(y_pred) - np.log1p(y_test))**2))"
      ],
      "execution_count": null,
      "outputs": []
    },
    {
      "cell_type": "code",
      "metadata": {
        "id": "_5i2YyOXee1b",
        "outputId": "811204a3-a68a-47ca-a550-a0c7eed7c121"
      },
      "source": [
        "df = pd.concat([봄,여름,가을,겨울]).reset_index(drop=True)\n",
        "df.shape"
      ],
      "execution_count": null,
      "outputs": [
        {
          "output_type": "execute_result",
          "data": {
            "text/plain": [
              "(695969, 14)"
            ]
          },
          "metadata": {
            "tags": []
          },
          "execution_count": 12
        }
      ]
    },
    {
      "cell_type": "code",
      "metadata": {
        "id": "9mS3nmGpee1b",
        "outputId": "9a53a332-4225-4c4b-f5cf-ec556480418c"
      },
      "source": [
        "봄 = data[data['계절']==0].reset_index(drop=True)\n",
        "여름 = data[data['계절']==1].reset_index(drop=True)\n",
        "가을 = data[data['계절']==2].reset_index(drop=True)\n",
        "겨울 = data[data['계절']==3].reset_index(drop=True)\n",
        "print(봄.shape, 여름.shape, 가을.shape, 겨울.shape)"
      ],
      "execution_count": null,
      "outputs": [
        {
          "output_type": "stream",
          "text": [
            "(178079, 14) (177458, 14) (169428, 14) (171004, 14)\n"
          ],
          "name": "stdout"
        }
      ]
    },
    {
      "cell_type": "markdown",
      "metadata": {
        "id": "TR7k_hk9ee1c"
      },
      "source": [
        "봄 RandomForest"
      ]
    },
    {
      "cell_type": "code",
      "metadata": {
        "id": "pZomCRLoee1c"
      },
      "source": [
        "spring_X = 봄.drop(['구매건수'], axis=1, inplace=False)\n",
        "spring_y = 봄['구매건수']\n",
        "\n",
        "spring_X_train, spring_X_test, spring_y_train, spring_y_test = train_test_split(spring_X, spring_y,\n",
        "                                                                        test_size=0.3,\n",
        "                                                                        random_state=42)"
      ],
      "execution_count": null,
      "outputs": []
    },
    {
      "cell_type": "code",
      "metadata": {
        "id": "Sxmtnqrwee1c",
        "outputId": "ab697f9f-1b24-4409-a5df-ca4396955be1"
      },
      "source": [
        "spring_rf = RandomForestRegressor(bootstrap=True, ccp_alpha=0.0, criterion='mse',\n",
        "                      max_depth=None, max_features='auto', max_leaf_nodes=None,\n",
        "                      max_samples=None, min_impurity_decrease=0.0,\n",
        "                      min_impurity_split=None, min_samples_leaf=1,\n",
        "                      min_samples_split=2, min_weight_fraction_leaf=0.0,\n",
        "                      n_estimators=100, n_jobs=-1, oob_score=False,\n",
        "                      random_state=42, verbose=0, warm_start=False)\n",
        "spring_rf.fit(spring_X_train,spring_y_train)\n",
        "spring_pred = spring_rf.predict(spring_X_test)\n",
        "print('RMSE :', mean_squared_error(spring_pred, spring_y_test)**0.5)"
      ],
      "execution_count": null,
      "outputs": [
        {
          "output_type": "stream",
          "text": [
            "RMSE : 0.4724293849522659\n"
          ],
          "name": "stdout"
        }
      ]
    },
    {
      "cell_type": "code",
      "metadata": {
        "id": "R_BgFtSjee1c",
        "outputId": "56a92b6f-bcf7-46ba-aba8-2300edb21600"
      },
      "source": [
        "print('RMSLE :', rmsle(spring_pred, spring_y_test))"
      ],
      "execution_count": null,
      "outputs": [
        {
          "output_type": "stream",
          "text": [
            "RMSLE : 0.1701834719104395\n"
          ],
          "name": "stdout"
        }
      ]
    },
    {
      "cell_type": "markdown",
      "metadata": {
        "id": "0oDPyl_7ee1d"
      },
      "source": [
        "여름 RandomForest"
      ]
    },
    {
      "cell_type": "code",
      "metadata": {
        "id": "3VjVMSPMee1d"
      },
      "source": [
        "summer_X = 여름.drop(['구매건수'], axis=1, inplace=False)\n",
        "summer_y = 여름['구매건수']\n",
        "\n",
        "summer_X_train, summer_X_test, summer_y_train, summer_y_test = train_test_split(summer_X, summer_y,\n",
        "                                                                        test_size=0.3,\n",
        "                                                                        random_state=42)"
      ],
      "execution_count": null,
      "outputs": []
    },
    {
      "cell_type": "code",
      "metadata": {
        "id": "gi44WuSNee1d",
        "outputId": "11339dbc-b7eb-44f8-bf8e-0cc19f41377c"
      },
      "source": [
        "summer_rf = RandomForestRegressor(bootstrap=True, ccp_alpha=0.0, criterion='mse',\n",
        "                      max_depth=None, max_features='auto', max_leaf_nodes=None,\n",
        "                      max_samples=None, min_impurity_decrease=0.0,\n",
        "                      min_impurity_split=None, min_samples_leaf=1,\n",
        "                      min_samples_split=2, min_weight_fraction_leaf=0.0,\n",
        "                      n_estimators=100, n_jobs=-1, oob_score=False,\n",
        "                      random_state=42, verbose=0, warm_start=False)\n",
        "summer_rf.fit(summer_X_train,summer_y_train)\n",
        "summer_pred = summer_rf.predict(summer_X_test)\n",
        "print('RMSE :', mean_squared_error(summer_pred, summer_y_test)**0.5)"
      ],
      "execution_count": null,
      "outputs": [
        {
          "output_type": "stream",
          "text": [
            "RMSE : 0.43179087558703316\n"
          ],
          "name": "stdout"
        }
      ]
    },
    {
      "cell_type": "code",
      "metadata": {
        "id": "4odVyPzGee1d",
        "outputId": "1f14cd9f-9ed1-4599-f683-f083d4159720"
      },
      "source": [
        "print('RMSLE :', rmsle(summer_pred, summer_y_test))"
      ],
      "execution_count": null,
      "outputs": [
        {
          "output_type": "stream",
          "text": [
            "RMSLE : 0.16126974114203585\n"
          ],
          "name": "stdout"
        }
      ]
    },
    {
      "cell_type": "markdown",
      "metadata": {
        "id": "MUMMQ_4Bee1e"
      },
      "source": [
        "가을 RandomForest"
      ]
    },
    {
      "cell_type": "code",
      "metadata": {
        "id": "W2Cj-j12ee1e"
      },
      "source": [
        "fall_X = 가을.drop(['구매건수'], axis=1, inplace=False)\n",
        "fall_y = 가을['구매건수']\n",
        "\n",
        "fall_X_train, fall_X_test, fall_y_train, fall_y_test = train_test_split(fall_X, fall_y,\n",
        "                                                                        test_size=0.3,\n",
        "                                                                        random_state=42)"
      ],
      "execution_count": null,
      "outputs": []
    },
    {
      "cell_type": "code",
      "metadata": {
        "id": "YK8JKw7Fee1e",
        "outputId": "5d72a3a4-bf75-4084-8e23-b378ff6af70c"
      },
      "source": [
        "fall_rf = RandomForestRegressor(bootstrap=True, ccp_alpha=0.0, criterion='mse',\n",
        "                      max_depth=None, max_features='auto', max_leaf_nodes=None,\n",
        "                      max_samples=None, min_impurity_decrease=0.0,\n",
        "                      min_impurity_split=None, min_samples_leaf=1,\n",
        "                      min_samples_split=2, min_weight_fraction_leaf=0.0,\n",
        "                      n_estimators=100, n_jobs=-1, oob_score=False,\n",
        "                      random_state=42, verbose=0, warm_start=False)\n",
        "fall_rf.fit(fall_X_train,fall_y_train)\n",
        "fall_pred = fall_rf.predict(fall_X_test)\n",
        "print('RMSE :', mean_squared_error(fall_pred, fall_y_test)**0.5)"
      ],
      "execution_count": null,
      "outputs": [
        {
          "output_type": "stream",
          "text": [
            "RMSE : 0.4258987449465712\n"
          ],
          "name": "stdout"
        }
      ]
    },
    {
      "cell_type": "code",
      "metadata": {
        "id": "ZCFdf9Uqee1e",
        "outputId": "0a07f948-a07f-41b2-a3ab-63df49b52e52"
      },
      "source": [
        "print('RMSLE :', rmsle(fall_pred, fall_y_test))"
      ],
      "execution_count": null,
      "outputs": [
        {
          "output_type": "stream",
          "text": [
            "RMSLE : 0.15903517298887615\n"
          ],
          "name": "stdout"
        }
      ]
    },
    {
      "cell_type": "markdown",
      "metadata": {
        "id": "2_eimMznee1e"
      },
      "source": [
        "겨울 RandomForest"
      ]
    },
    {
      "cell_type": "code",
      "metadata": {
        "id": "9jNL5LOvee1f"
      },
      "source": [
        "winter_X = 겨울.drop(['구매건수'], axis=1, inplace=False)\n",
        "winter_y = 겨울['구매건수']\n",
        "\n",
        "winter_X_train, winter_X_test, winter_y_train, winter_y_test = train_test_split(winter_X, winter_y,\n",
        "                                                                        test_size=0.3,\n",
        "                                                                        random_state=42)"
      ],
      "execution_count": null,
      "outputs": []
    },
    {
      "cell_type": "code",
      "metadata": {
        "id": "wo8ceoJ4ee1f",
        "outputId": "d3f5bb46-3829-4555-b6a5-c748e73b6e65"
      },
      "source": [
        "winter_rf = RandomForestRegressor(bootstrap=True, ccp_alpha=0.0, criterion='mse',\n",
        "                      max_depth=None, max_features='auto', max_leaf_nodes=None,\n",
        "                      max_samples=None, min_impurity_decrease=0.0,\n",
        "                      min_impurity_split=None, min_samples_leaf=1,\n",
        "                      min_samples_split=2, min_weight_fraction_leaf=0.0,\n",
        "                      n_estimators=100, n_jobs=-1, oob_score=False,\n",
        "                      random_state=42, verbose=0, warm_start=False)\n",
        "winter_rf.fit(winter_X_train,winter_y_train)\n",
        "winter_pred = winter_rf.predict(winter_X_test)\n",
        "print('RMSE :', mean_squared_error(winter_pred, winter_y_test)**0.5)"
      ],
      "execution_count": null,
      "outputs": [
        {
          "output_type": "stream",
          "text": [
            "RMSE : 0.4381070739255093\n"
          ],
          "name": "stdout"
        }
      ]
    },
    {
      "cell_type": "code",
      "metadata": {
        "id": "uQw5FscLee1f",
        "outputId": "32ad3b49-1eca-43c6-d57c-021cf1874182"
      },
      "source": [
        "print('RMSLE :', rmsle(winter_pred, winter_y_test))"
      ],
      "execution_count": null,
      "outputs": [
        {
          "output_type": "stream",
          "text": [
            "RMSLE : 0.16208348509198328\n"
          ],
          "name": "stdout"
        }
      ]
    }
  ]
}