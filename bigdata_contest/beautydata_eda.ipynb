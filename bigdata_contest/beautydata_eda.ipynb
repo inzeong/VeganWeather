{
 "cells": [
  {
   "cell_type": "code",
   "execution_count": 22,
   "metadata": {},
   "outputs": [],
   "source": [
    "import numpy as np\n",
    "import pandas as pd\n",
    "import matplotlib.pyplot as plt\n",
    "import seaborn as sns\n",
    "%matplotlib inline\n",
    "import matplotlib as mpl\n",
    "import warnings\n",
    "warnings.filterwarnings('ignore')\n",
    "import matplotlib.pyplot as plt\n",
    "import platform\n"
   ]
  },
  {
   "cell_type": "code",
   "execution_count": 23,
   "metadata": {},
   "outputs": [
    {
     "data": {
      "text/html": [
       "<div>\n",
       "<style scoped>\n",
       "    .dataframe tbody tr th:only-of-type {\n",
       "        vertical-align: middle;\n",
       "    }\n",
       "\n",
       "    .dataframe tbody tr th {\n",
       "        vertical-align: top;\n",
       "    }\n",
       "\n",
       "    .dataframe thead th {\n",
       "        text-align: right;\n",
       "    }\n",
       "</style>\n",
       "<table border=\"1\" class=\"dataframe\">\n",
       "  <thead>\n",
       "    <tr style=\"text-align: right;\">\n",
       "      <th></th>\n",
       "      <th>계절</th>\n",
       "      <th>월</th>\n",
       "      <th>일</th>\n",
       "      <th>요일</th>\n",
       "      <th>공휴일</th>\n",
       "      <th>성별</th>\n",
       "      <th>연령대</th>\n",
       "      <th>대분류명</th>\n",
       "      <th>소분류명</th>\n",
       "      <th>평균일강수량(mm)</th>\n",
       "      <th>평균풍속(km/h)</th>\n",
       "      <th>평균습도(%rh)</th>\n",
       "      <th>일조합</th>\n",
       "      <th>체감온도(℃)</th>\n",
       "      <th>일 미세먼지 농도(㎍/㎥)</th>\n",
       "      <th>10만건당 건수</th>\n",
       "      <th>구매건수</th>\n",
       "    </tr>\n",
       "  </thead>\n",
       "  <tbody>\n",
       "    <tr>\n",
       "      <th>0</th>\n",
       "      <td>겨울</td>\n",
       "      <td>1</td>\n",
       "      <td>1</td>\n",
       "      <td>0</td>\n",
       "      <td>1.0</td>\n",
       "      <td>F</td>\n",
       "      <td>20</td>\n",
       "      <td>식품</td>\n",
       "      <td>가공란</td>\n",
       "      <td>0.0</td>\n",
       "      <td>6.84</td>\n",
       "      <td>51.0</td>\n",
       "      <td>8.7</td>\n",
       "      <td>-2.810026</td>\n",
       "      <td>32.962963</td>\n",
       "      <td>0.480964</td>\n",
       "      <td>37</td>\n",
       "    </tr>\n",
       "    <tr>\n",
       "      <th>1</th>\n",
       "      <td>겨울</td>\n",
       "      <td>1</td>\n",
       "      <td>1</td>\n",
       "      <td>0</td>\n",
       "      <td>1.0</td>\n",
       "      <td>F</td>\n",
       "      <td>30</td>\n",
       "      <td>식품</td>\n",
       "      <td>가공란</td>\n",
       "      <td>0.0</td>\n",
       "      <td>6.84</td>\n",
       "      <td>51.0</td>\n",
       "      <td>8.7</td>\n",
       "      <td>-2.810026</td>\n",
       "      <td>32.962963</td>\n",
       "      <td>0.480964</td>\n",
       "      <td>16</td>\n",
       "    </tr>\n",
       "    <tr>\n",
       "      <th>2</th>\n",
       "      <td>겨울</td>\n",
       "      <td>1</td>\n",
       "      <td>1</td>\n",
       "      <td>0</td>\n",
       "      <td>1.0</td>\n",
       "      <td>F</td>\n",
       "      <td>40</td>\n",
       "      <td>식품</td>\n",
       "      <td>가공란</td>\n",
       "      <td>0.0</td>\n",
       "      <td>6.84</td>\n",
       "      <td>51.0</td>\n",
       "      <td>8.7</td>\n",
       "      <td>-2.810026</td>\n",
       "      <td>32.962963</td>\n",
       "      <td>0.480964</td>\n",
       "      <td>9</td>\n",
       "    </tr>\n",
       "    <tr>\n",
       "      <th>3</th>\n",
       "      <td>겨울</td>\n",
       "      <td>1</td>\n",
       "      <td>1</td>\n",
       "      <td>0</td>\n",
       "      <td>1.0</td>\n",
       "      <td>F</td>\n",
       "      <td>50</td>\n",
       "      <td>식품</td>\n",
       "      <td>가공란</td>\n",
       "      <td>0.0</td>\n",
       "      <td>6.84</td>\n",
       "      <td>51.0</td>\n",
       "      <td>8.7</td>\n",
       "      <td>-2.810026</td>\n",
       "      <td>32.962963</td>\n",
       "      <td>0.480964</td>\n",
       "      <td>3</td>\n",
       "    </tr>\n",
       "    <tr>\n",
       "      <th>4</th>\n",
       "      <td>겨울</td>\n",
       "      <td>1</td>\n",
       "      <td>1</td>\n",
       "      <td>0</td>\n",
       "      <td>1.0</td>\n",
       "      <td>M</td>\n",
       "      <td>20</td>\n",
       "      <td>식품</td>\n",
       "      <td>가공란</td>\n",
       "      <td>0.0</td>\n",
       "      <td>6.84</td>\n",
       "      <td>51.0</td>\n",
       "      <td>8.7</td>\n",
       "      <td>-2.810026</td>\n",
       "      <td>32.962963</td>\n",
       "      <td>0.480964</td>\n",
       "      <td>13</td>\n",
       "    </tr>\n",
       "  </tbody>\n",
       "</table>\n",
       "</div>"
      ],
      "text/plain": [
       "   계절  월  일  요일  공휴일 성별  연령대 대분류명 소분류명  평균일강수량(mm)  평균풍속(km/h)  평균습도(%rh)  \\\n",
       "0  겨울  1  1   0  1.0  F   20   식품  가공란         0.0        6.84       51.0   \n",
       "1  겨울  1  1   0  1.0  F   30   식품  가공란         0.0        6.84       51.0   \n",
       "2  겨울  1  1   0  1.0  F   40   식품  가공란         0.0        6.84       51.0   \n",
       "3  겨울  1  1   0  1.0  F   50   식품  가공란         0.0        6.84       51.0   \n",
       "4  겨울  1  1   0  1.0  M   20   식품  가공란         0.0        6.84       51.0   \n",
       "\n",
       "   일조합   체감온도(℃)  일 미세먼지 농도(㎍/㎥)  10만건당 건수  구매건수  \n",
       "0  8.7 -2.810026       32.962963  0.480964    37  \n",
       "1  8.7 -2.810026       32.962963  0.480964    16  \n",
       "2  8.7 -2.810026       32.962963  0.480964     9  \n",
       "3  8.7 -2.810026       32.962963  0.480964     3  \n",
       "4  8.7 -2.810026       32.962963  0.480964    13  "
      ]
     },
     "execution_count": 23,
     "metadata": {},
     "output_type": "execute_result"
    }
   ],
   "source": [
    "data = pd.read_csv('./new/total_data.csv')\n",
    "data.head(5)"
   ]
  },
  {
   "cell_type": "code",
   "execution_count": 25,
   "metadata": {},
   "outputs": [
    {
     "name": "stdout",
     "output_type": "stream",
     "text": [
      "(697853, 17)\n"
     ]
    },
    {
     "data": {
      "text/html": [
       "<div>\n",
       "<style scoped>\n",
       "    .dataframe tbody tr th:only-of-type {\n",
       "        vertical-align: middle;\n",
       "    }\n",
       "\n",
       "    .dataframe tbody tr th {\n",
       "        vertical-align: top;\n",
       "    }\n",
       "\n",
       "    .dataframe thead th {\n",
       "        text-align: right;\n",
       "    }\n",
       "</style>\n",
       "<table border=\"1\" class=\"dataframe\">\n",
       "  <thead>\n",
       "    <tr style=\"text-align: right;\">\n",
       "      <th></th>\n",
       "      <th>계절</th>\n",
       "      <th>월</th>\n",
       "      <th>일</th>\n",
       "      <th>요일</th>\n",
       "      <th>공휴일</th>\n",
       "      <th>성별</th>\n",
       "      <th>연령대</th>\n",
       "      <th>대분류명</th>\n",
       "      <th>소분류명</th>\n",
       "      <th>평균일강수량(mm)</th>\n",
       "      <th>평균풍속(km/h)</th>\n",
       "      <th>평균습도(%rh)</th>\n",
       "      <th>일조합</th>\n",
       "      <th>체감온도(℃)</th>\n",
       "      <th>일 미세먼지 농도(㎍/㎥)</th>\n",
       "      <th>10만건당 건수</th>\n",
       "      <th>구매건수</th>\n",
       "    </tr>\n",
       "  </thead>\n",
       "  <tbody>\n",
       "    <tr>\n",
       "      <th>0</th>\n",
       "      <td>겨울</td>\n",
       "      <td>1</td>\n",
       "      <td>1</td>\n",
       "      <td>0</td>\n",
       "      <td>1.0</td>\n",
       "      <td>F</td>\n",
       "      <td>20</td>\n",
       "      <td>뷰티</td>\n",
       "      <td>기능성 링클케어 화장품</td>\n",
       "      <td>0.0</td>\n",
       "      <td>6.84</td>\n",
       "      <td>51.0</td>\n",
       "      <td>8.7</td>\n",
       "      <td>-2.810026</td>\n",
       "      <td>32.962963</td>\n",
       "      <td>12.154295</td>\n",
       "      <td>2</td>\n",
       "    </tr>\n",
       "    <tr>\n",
       "      <th>1</th>\n",
       "      <td>겨울</td>\n",
       "      <td>1</td>\n",
       "      <td>1</td>\n",
       "      <td>0</td>\n",
       "      <td>1.0</td>\n",
       "      <td>F</td>\n",
       "      <td>40</td>\n",
       "      <td>뷰티</td>\n",
       "      <td>기능성 링클케어 화장품</td>\n",
       "      <td>0.0</td>\n",
       "      <td>6.84</td>\n",
       "      <td>51.0</td>\n",
       "      <td>8.7</td>\n",
       "      <td>-2.810026</td>\n",
       "      <td>32.962963</td>\n",
       "      <td>12.154295</td>\n",
       "      <td>1</td>\n",
       "    </tr>\n",
       "    <tr>\n",
       "      <th>2</th>\n",
       "      <td>겨울</td>\n",
       "      <td>1</td>\n",
       "      <td>1</td>\n",
       "      <td>0</td>\n",
       "      <td>1.0</td>\n",
       "      <td>F</td>\n",
       "      <td>20</td>\n",
       "      <td>뷰티</td>\n",
       "      <td>기능성 모공관리 화장품</td>\n",
       "      <td>0.0</td>\n",
       "      <td>6.84</td>\n",
       "      <td>51.0</td>\n",
       "      <td>8.7</td>\n",
       "      <td>-2.810026</td>\n",
       "      <td>32.962963</td>\n",
       "      <td>36.000828</td>\n",
       "      <td>7</td>\n",
       "    </tr>\n",
       "    <tr>\n",
       "      <th>3</th>\n",
       "      <td>겨울</td>\n",
       "      <td>1</td>\n",
       "      <td>1</td>\n",
       "      <td>0</td>\n",
       "      <td>1.0</td>\n",
       "      <td>F</td>\n",
       "      <td>30</td>\n",
       "      <td>뷰티</td>\n",
       "      <td>기능성 모공관리 화장품</td>\n",
       "      <td>0.0</td>\n",
       "      <td>6.84</td>\n",
       "      <td>51.0</td>\n",
       "      <td>8.7</td>\n",
       "      <td>-2.810026</td>\n",
       "      <td>32.962963</td>\n",
       "      <td>36.000828</td>\n",
       "      <td>3</td>\n",
       "    </tr>\n",
       "    <tr>\n",
       "      <th>4</th>\n",
       "      <td>겨울</td>\n",
       "      <td>1</td>\n",
       "      <td>1</td>\n",
       "      <td>0</td>\n",
       "      <td>1.0</td>\n",
       "      <td>F</td>\n",
       "      <td>40</td>\n",
       "      <td>뷰티</td>\n",
       "      <td>기능성 모공관리 화장품</td>\n",
       "      <td>0.0</td>\n",
       "      <td>6.84</td>\n",
       "      <td>51.0</td>\n",
       "      <td>8.7</td>\n",
       "      <td>-2.810026</td>\n",
       "      <td>32.962963</td>\n",
       "      <td>36.000828</td>\n",
       "      <td>1</td>\n",
       "    </tr>\n",
       "  </tbody>\n",
       "</table>\n",
       "</div>"
      ],
      "text/plain": [
       "   계절  월  일  요일  공휴일 성별  연령대 대분류명          소분류명  평균일강수량(mm)  평균풍속(km/h)  \\\n",
       "0  겨울  1  1   0  1.0  F   20   뷰티  기능성 링클케어 화장품         0.0        6.84   \n",
       "1  겨울  1  1   0  1.0  F   40   뷰티  기능성 링클케어 화장품         0.0        6.84   \n",
       "2  겨울  1  1   0  1.0  F   20   뷰티  기능성 모공관리 화장품         0.0        6.84   \n",
       "3  겨울  1  1   0  1.0  F   30   뷰티  기능성 모공관리 화장품         0.0        6.84   \n",
       "4  겨울  1  1   0  1.0  F   40   뷰티  기능성 모공관리 화장품         0.0        6.84   \n",
       "\n",
       "   평균습도(%rh)  일조합   체감온도(℃)  일 미세먼지 농도(㎍/㎥)   10만건당 건수  구매건수  \n",
       "0       51.0  8.7 -2.810026       32.962963  12.154295     2  \n",
       "1       51.0  8.7 -2.810026       32.962963  12.154295     1  \n",
       "2       51.0  8.7 -2.810026       32.962963  36.000828     7  \n",
       "3       51.0  8.7 -2.810026       32.962963  36.000828     3  \n",
       "4       51.0  8.7 -2.810026       32.962963  36.000828     1  "
      ]
     },
     "execution_count": 25,
     "metadata": {},
     "output_type": "execute_result"
    }
   ],
   "source": [
    "beauty = data[data['대분류명']=='뷰티'].reset_index(drop=True)\n",
    "print(beauty.shape)\n",
    "beauty.head(5)"
   ]
  },
  {
   "cell_type": "code",
   "execution_count": 26,
   "metadata": {},
   "outputs": [
    {
     "data": {
      "text/plain": [
       "[<matplotlib.lines.Line2D at 0x7fd22274cfd0>]"
      ]
     },
     "execution_count": 26,
     "metadata": {},
     "output_type": "execute_result"
    },
    {
     "data": {
      "image/png": "[encoded data removed]",
      "text/plain": [
       "<Figure size 1080x720 with 6 Axes>"
      ]
     },
     "metadata": {
      "needs_background": "light"
     },
     "output_type": "display_data"
    }
   ],
   "source": [
    "# 계절, 월, 요일, 공휴일, 성별, 연령대에 따른 구매건수 합계\n",
    "if platform.system() == 'Darwin': #맥\n",
    "        plt.rc('font', family='AppleGothic') \n",
    "plt.rcParams['axes.unicode_minus'] = False        \n",
    "plt.figure(figsize=(15,10))\n",
    "plt.subplot(231)\n",
    "plt.plot(beauty.groupby('계절')['구매건수'].sum())\n",
    "\n",
    "plt.subplot(232)\n",
    "plt.plot(beauty.groupby('월')['구매건수'].sum())\n",
    "\n",
    "plt.subplot(233)\n",
    "plt.plot(beauty.groupby('요일')['구매건수'].sum())\n",
    "\n",
    "plt.subplot(234)\n",
    "plt.plot(beauty.groupby('공휴일')['구매건수'].sum())\n",
    "\n",
    "plt.subplot(235)\n",
    "plt.plot(beauty.groupby('성별')['구매건수'].sum())\n",
    "\n",
    "plt.subplot(236)\n",
    "plt.plot(beauty.groupby('연령대')['구매건수'].sum())"
   ]
  },
  {
   "cell_type": "code",
   "execution_count": 27,
   "metadata": {},
   "outputs": [
    {
     "data": {
      "image/png": "[encoded data removed]",
      "text/plain": [
       "<Figure size 1080x720 with 1 Axes>"
      ]
     },
     "metadata": {
      "needs_background": "light"
     },
     "output_type": "display_data"
    }
   ],
   "source": [
    "# 소분류에 따른 구매건수 합계\n",
    "구매합계 = beauty.groupby('소분류명')['구매건수'].sum()\n",
    "plt.figure(figsize=(15,10))\n",
    "plt.plot(구매합계.sort_values(ascending=False)[:30])\n",
    "plt.xticks(rotation=90)\n",
    "plt.show()"
   ]
  },
  {
   "cell_type": "code",
   "execution_count": 49,
   "metadata": {},
   "outputs": [],
   "source": [
    "#계절\n",
    "봄 = beauty[beauty['계절']=='봄'].reset_index(drop=True)\n",
    "여름 = beauty[beauty['계절']=='여름'].reset_index(drop=True)\n",
    "가을 = beauty[beauty['계절']=='가을'].reset_index(drop=True)\n",
    "겨울 = beauty[beauty['계절']=='겨울'].reset_index(drop=True)\n"
   ]
  },
  {
   "cell_type": "code",
   "execution_count": 50,
   "metadata": {
    "scrolled": true
   },
   "outputs": [
    {
     "data": {
      "text/plain": [
       "Index(['기초 화장용 크림', '샴푸', '기초 화장용 에센스', '스킨케어 마스크팩', '베이스 메이크업용 쿠션팩트',\n",
       "       '네일 메이크업 용품', '베이스 메이크업용 파운데이션', '클렌징 폼', '기초 화장용 스킨', '선크림'],\n",
       "      dtype='object', name='소분류명')"
      ]
     },
     "execution_count": 50,
     "metadata": {},
     "output_type": "execute_result"
    }
   ],
   "source": [
    "봄.groupby('소분류명')['구매건수'].sum().sort_values(ascending=False)[:10].index"
   ]
  },
  {
   "cell_type": "code",
   "execution_count": 51,
   "metadata": {},
   "outputs": [
    {
     "data": {
      "text/plain": [
       "Index(['기초 화장용 크림', '샴푸', '네일 메이크업 용품', '기초 화장용 에센스', '스킨케어 마스크팩',\n",
       "       '베이스 메이크업용 쿠션팩트', '클렌징 폼', '기초 화장용 스킨', '트리트먼트', '바디 클렌져'],\n",
       "      dtype='object', name='소분류명')"
      ]
     },
     "execution_count": 51,
     "metadata": {},
     "output_type": "execute_result"
    }
   ],
   "source": [
    "여름.groupby('소분류명')['구매건수'].sum().sort_values(ascending=False)[:10].index"
   ]
  },
  {
   "cell_type": "code",
   "execution_count": 52,
   "metadata": {},
   "outputs": [
    {
     "data": {
      "text/plain": [
       "Index(['기초 화장용 크림', '샴푸', '기초 화장용 에센스', '스킨케어 마스크팩', '기초 화장용 스킨', '바디 보습제',\n",
       "       '클렌징 폼', '기능성 아이케어 화장품', '기초 화장용 로션', '베이스 메이크업용 쿠션팩트'],\n",
       "      dtype='object', name='소분류명')"
      ]
     },
     "execution_count": 52,
     "metadata": {},
     "output_type": "execute_result"
    }
   ],
   "source": [
    "가을.groupby('소분류명')['구매건수'].sum().sort_values(ascending=False)[:10].index"
   ]
  },
  {
   "cell_type": "code",
   "execution_count": 53,
   "metadata": {},
   "outputs": [
    {
     "data": {
      "text/plain": [
       "Index(['기초 화장용 크림', '샴푸', '기초 화장용 에센스', '스킨케어 마스크팩', '기초 화장용 로션', '기초 화장용 스킨',\n",
       "       '기능성 아이케어 화장품', '바디 보습제', '색조 메이크업 립스틱', '트리트먼트'],\n",
       "      dtype='object', name='소분류명')"
      ]
     },
     "execution_count": 53,
     "metadata": {},
     "output_type": "execute_result"
    }
   ],
   "source": [
    "겨울.groupby('소분류명')['구매건수'].sum().sort_values(ascending=False)[:10].index"
   ]
  },
  {
   "cell_type": "code",
   "execution_count": 54,
   "metadata": {},
   "outputs": [],
   "source": [
    "#성별\n",
    "여성 = beauty[beauty['성별']=='F'].reset_index(drop=True)\n",
    "남성 = beauty[beauty['성별']=='M'].reset_index(drop=True)\n"
   ]
  },
  {
   "cell_type": "code",
   "execution_count": 55,
   "metadata": {},
   "outputs": [
    {
     "data": {
      "text/plain": [
       "Index(['기초 화장용 크림', '샴푸', '기초 화장용 에센스', '스킨케어 마스크팩', '네일 메이크업 용품',\n",
       "       '베이스 메이크업용 쿠션팩트', '기초 화장용 스킨', '베이스 메이크업용 파운데이션', '트리트먼트',\n",
       "       '색조 메이크업 립스틱'],\n",
       "      dtype='object', name='소분류명')"
      ]
     },
     "execution_count": 55,
     "metadata": {},
     "output_type": "execute_result"
    }
   ],
   "source": [
    "여성.groupby('소분류명')['구매건수'].sum().sort_values(ascending=False)[:10].index"
   ]
  },
  {
   "cell_type": "code",
   "execution_count": 56,
   "metadata": {},
   "outputs": [
    {
     "data": {
      "text/plain": [
       "Index(['기초 화장용 크림', '샴푸', '기초 화장용 에센스', '클렌징 폼', '스킨케어 마스크팩', '기초 화장용 로션',\n",
       "       '바디 클렌져', '기초 화장용 스킨', '바디 보습제', '네일 메이크업 용품'],\n",
       "      dtype='object', name='소분류명')"
      ]
     },
     "execution_count": 56,
     "metadata": {},
     "output_type": "execute_result"
    }
   ],
   "source": [
    "남성.groupby('소분류명')['구매건수'].sum().sort_values(ascending=False)[:10].index"
   ]
  },
  {
   "cell_type": "code",
   "execution_count": 64,
   "metadata": {},
   "outputs": [],
   "source": [
    "#연령대\n",
    "two = beauty[beauty['연령대']==20].reset_index(drop=True)\n",
    "three = beauty[beauty['연령대']==30].reset_index(drop=True)\n",
    "four = beauty[beauty['연령대']==40].reset_index(drop=True)\n",
    "five = beauty[beauty['연령대']==50].reset_index(drop=True)\n",
    "six = beauty[beauty['연령대']==60].reset_index(drop=True)"
   ]
  },
  {
   "cell_type": "code",
   "execution_count": 59,
   "metadata": {},
   "outputs": [
    {
     "data": {
      "text/plain": [
       "Index(['기초 화장용 크림', '샴푸', '기초 화장용 에센스', '스킨케어 마스크팩', '네일 메이크업 용품', '기초 화장용 스킨',\n",
       "       '색조 메이크업 립스틱', '베이스 메이크업용 파운데이션', '색조 메이크업 립틴트', '클렌징 폼'],\n",
       "      dtype='object', name='소분류명')"
      ]
     },
     "execution_count": 59,
     "metadata": {},
     "output_type": "execute_result"
    }
   ],
   "source": [
    "two.groupby('소분류명')['구매건수'].sum().sort_values(ascending=False)[:10].index"
   ]
  },
  {
   "cell_type": "code",
   "execution_count": 60,
   "metadata": {},
   "outputs": [
    {
     "data": {
      "text/plain": [
       "Index(['기초 화장용 크림', '샴푸', '기초 화장용 에센스', '네일 메이크업 용품', '스킨케어 마스크팩',\n",
       "       '베이스 메이크업용 쿠션팩트', '클렌징 폼', '기초 화장용 로션', '기초 화장용 스킨', '바디 보습제'],\n",
       "      dtype='object', name='소분류명')"
      ]
     },
     "execution_count": 60,
     "metadata": {},
     "output_type": "execute_result"
    }
   ],
   "source": [
    "three.groupby('소분류명')['구매건수'].sum().sort_values(ascending=False)[:10].index"
   ]
  },
  {
   "cell_type": "code",
   "execution_count": 61,
   "metadata": {},
   "outputs": [
    {
     "data": {
      "text/plain": [
       "Index(['기초 화장용 크림', '샴푸', '기초 화장용 에센스', '스킨케어 마스크팩', '베이스 메이크업용 쿠션팩트',\n",
       "       '기능성 아이케어 화장품', '트리트먼트', '네일 메이크업 용품', '클렌징 폼', '기초 화장용 스킨'],\n",
       "      dtype='object', name='소분류명')"
      ]
     },
     "execution_count": 61,
     "metadata": {},
     "output_type": "execute_result"
    }
   ],
   "source": [
    "four.groupby('소분류명')['구매건수'].sum().sort_values(ascending=False)[:10].index"
   ]
  },
  {
   "cell_type": "code",
   "execution_count": 62,
   "metadata": {},
   "outputs": [
    {
     "data": {
      "text/plain": [
       "Index(['기초 화장용 크림', '샴푸', '기초 화장용 에센스', '스킨케어 마스크팩', '트리트먼트', '기능성 아이케어 화장품',\n",
       "       '헤어스타일링용 염색약', '베이스 메이크업용 쿠션팩트', '클렌징 폼', '기초 화장용 스킨'],\n",
       "      dtype='object', name='소분류명')"
      ]
     },
     "execution_count": 62,
     "metadata": {},
     "output_type": "execute_result"
    }
   ],
   "source": [
    "five.groupby('소분류명')['구매건수'].sum().sort_values(ascending=False)[:10].index"
   ]
  },
  {
   "cell_type": "code",
   "execution_count": 65,
   "metadata": {},
   "outputs": [
    {
     "data": {
      "text/plain": [
       "Index(['기초 화장용 크림', '샴푸', '기초 화장용 에센스', '스킨케어 마스크팩', '헤어스타일링용 염색약',\n",
       "       '기능성 아이케어 화장품', '트리트먼트', '기초 화장용 로션', '클렌징 폼', '기초 화장용 스킨'],\n",
       "      dtype='object', name='소분류명')"
      ]
     },
     "execution_count": 65,
     "metadata": {},
     "output_type": "execute_result"
    }
   ],
   "source": [
    "six.groupby('소분류명')['구매건수'].sum().sort_values(ascending=False)[:10].index"
   ]
  },
  {
   "cell_type": "code",
   "execution_count": 67,
   "metadata": {},
   "outputs": [
    {
     "data": {
      "text/plain": [
       "array(['기초 화장용 에센스', '기초 화장용 크림', '기초 화장용 스킨', '스킨케어 마스크팩',\n",
       "       '베이스 메이크업용 파우더팩트', '샴푸', '네일 메이크업 용품', '베이스 메이크업용 쿠션팩트', '트리트먼트',\n",
       "       '색조 메이크업 아이라이너', '색조 메이크업 립스틱', '색조 메이크업 립틴트', '베이스 메이크업용 파운데이션',\n",
       "       '클렌징 폼', '선크림', '바디 클렌져', '기능성 아이케어 화장품', '화장 비누', '바디 보습제',\n",
       "       '기초 화장용 로션', '헤어스타일링용 염색약', '색조 메이크업 아이섀도우', '스킨케어 코팩', '선케어용 선밤',\n",
       "       '색조 메이크업 아이브로우', '헤어에센스', '색조 메이크업 볼터치', '스킨케어 시트마스크팩',\n",
       "       '기초 화장용 미스트', '메이크업 브러쉬'], dtype=object)"
      ]
     },
     "execution_count": 67,
     "metadata": {},
     "output_type": "execute_result"
    }
   ],
   "source": [
    "# 체감온도가 높을 때\n",
    "beauty.sort_values(by=['체감온도(℃)','구매건수'], ascending=False)[:100]['소분류명'].unique()"
   ]
  },
  {
   "cell_type": "code",
   "execution_count": 68,
   "metadata": {},
   "outputs": [
    {
     "data": {
      "text/plain": [
       "array(['기초 화장용 에센스', '스킨케어 수면팩', '기초 화장용 크림', '샴푸', '베이스 메이크업용 메이크업베이스',\n",
       "       '네일 메이크업 용품', '클렌징 폼'], dtype=object)"
      ]
     },
     "execution_count": 68,
     "metadata": {},
     "output_type": "execute_result"
    }
   ],
   "source": [
    "# 체감온도가 낮을 때\n",
    "beauty[beauty['체감온도(℃)'] <= np.mean(beauty['체감온도(℃)'])].sort_values(by='구매건수', ascending=False)[:100]['소분류명'].unique()"
   ]
  },
  {
   "cell_type": "code",
   "execution_count": 69,
   "metadata": {},
   "outputs": [
    {
     "data": {
      "text/plain": [
       "array(['기초 화장용 크림', '샴푸', '스킨케어 마스크팩', '기능성 아이케어 화장품', '기초 화장용 에센스',\n",
       "       '네일 메이크업 용품', '기초 화장용 스킨', '클렌징 폼', '트리트먼트', '색조 메이크업 립틴트',\n",
       "       '기초 화장용 로션', '스킨케어 시트마스크팩', '바디 보습제', '헤어에센스', '베이스 메이크업용 파운데이션',\n",
       "       '헤어스타일링용 염색약', '베이스 메이크업용 쿠션팩트', '색조 메이크업 립스틱', '색조 메이크업 아이섀도우',\n",
       "       '선크림', '색조 메이크업 아이라이너', '뷰티 화장솜', '바디 클렌져', '기초 화장용 오일/앰플',\n",
       "       '클렌징 오일', '색조 메이크업 아이브로우', '기초 화장용 미스트', '화장 비누', '스크럽/필링크림',\n",
       "       '클렌징 워터/젤', '핸드크림', '색조 메이크업 마스카라', '핸드워시/스크럽', '베이스 메이크업용 파우더팩트'],\n",
       "      dtype=object)"
      ]
     },
     "execution_count": 69,
     "metadata": {},
     "output_type": "execute_result"
    }
   ],
   "source": [
    "# 미세먼지가 많을 때\n",
    "beauty.sort_values(by=['일 미세먼지 농도(㎍/㎥)','구매건수'], ascending=False)[:100]['소분류명'].unique()"
   ]
  },
  {
   "cell_type": "code",
   "execution_count": 70,
   "metadata": {},
   "outputs": [
    {
     "data": {
      "text/plain": [
       "array(['스킨케어 수면팩', '베이스 메이크업용 쿠션팩트', '스킨케어 마스크팩', '기초 화장용 에센스',\n",
       "       '기초 화장용 크림', '샴푸', '네일 메이크업 용품', '기능성 아이케어 화장품', '클렌징 폼',\n",
       "       '베이스 메이크업용 파우더팩트'], dtype=object)"
      ]
     },
     "execution_count": 70,
     "metadata": {},
     "output_type": "execute_result"
    }
   ],
   "source": [
    "# 미세먼지가 적을 때\n",
    "beauty[beauty['일 미세먼지 농도(㎍/㎥)'] <= np.mean(beauty['일 미세먼지 농도(㎍/㎥)'])].sort_values(by='구매건수', ascending=False)[:100]['소분류명'].unique()"
   ]
  },
  {
   "cell_type": "code",
   "execution_count": null,
   "metadata": {},
   "outputs": [],
   "source": []
  }
 ],
 "metadata": {
  "kernelspec": {
   "display_name": "Python 3",
   "language": "python",
   "name": "python3"
  },
  "language_info": {
   "codemirror_mode": {
    "name": "ipython",
    "version": 3
   },
   "file_extension": ".py",
   "mimetype": "text/x-python",
   "name": "python",
   "nbconvert_exporter": "python",
   "pygments_lexer": "ipython3",
   "version": "3.8.5"
  }
 },
 "nbformat": 4,
 "nbformat_minor": 4
}
